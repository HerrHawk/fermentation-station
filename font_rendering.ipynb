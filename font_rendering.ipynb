{
 "cells": [
  {
   "cell_type": "code",
   "execution_count": 1,
   "id": "plain-firmware",
   "metadata": {},
   "outputs": [],
   "source": [
    "import numpy as np\n",
    "from PIL import Image, ImageFont, ImageDraw\n",
    "from functools import reduce"
   ]
  },
  {
   "cell_type": "code",
   "execution_count": 9,
   "id": "excited-bosnia",
   "metadata": {},
   "outputs": [],
   "source": [
    "def assemble_font(x, y, fontsize, show=True):\n",
    "    font = ImageFont.truetype(\n",
    "        \"/Users/paul/Downloads/OnlineWebFonts_COM_11a0aee1e7dcd2d5479ba925152dadee/MonoLisa_Regular/MonoLisa_Regular.ttf\",\n",
    "        fontsize\n",
    "    )\n",
    "    ret = []\n",
    "    for i in range(256):\n",
    "        image = Image.new('1', (x, y), color=1)\n",
    "        draw = ImageDraw.Draw(image)\n",
    "        draw.text((1,0),chr(i),font=font, fill='black')\n",
    "        ret.append(np.array(image))\n",
    "    \n",
    "    if show:\n",
    "        show_font(ret)\n",
    "            \n",
    "    return ret"
   ]
  },
  {
   "cell_type": "code",
   "execution_count": 25,
   "id": "fixed-fortune",
   "metadata": {
    "scrolled": true
   },
   "outputs": [],
   "source": [
    "def show_font(font):\n",
    "    y, x = font[0].shape\n",
    "    print(x, y)\n",
    "    h, v = 32, 8\n",
    "    container = np.zeros((v*y+v-1, h*x+h-1), dtype=bool)\n",
    "    print(container.shape)\n",
    "\n",
    "    for i in range(v):\n",
    "        for j in range(h):\n",
    "            x0, y0, x1, y1 = (j*x+j, i*y+i, j*x+x+j, i*y+y+i)\n",
    "#             print(i*h+j, x0,y0,x1,y1)\n",
    "#             display(Image.fromarray(font[i*h+j]))\n",
    "            container[y0:y1,x0:x1] = font[i*h+j]\n",
    "            \n",
    "    display(Image.fromarray(container))"
   ]
  },
  {
   "cell_type": "code",
   "execution_count": 67,
   "id": "average-mandate",
   "metadata": {
    "scrolled": true
   },
   "outputs": [],
   "source": [
    "def font_to_hex(font):\n",
    "    font_as_hex = []\n",
    "    for i,c in enumerate(font):\n",
    "        c = np.rot90(c)\n",
    "        c = c.flatten()\n",
    "        hex_values = []\n",
    "        byte_splits = np.split(c, len(c)//8)\n",
    "        for b in byte_splits:\n",
    "            b = np.asarray(b, dtype=int)\n",
    "            b = reduce(lambda a, b: a + str(b), b, '')\n",
    "            hex_values.append(hex(int(b, 2)))\n",
    "        font_as_hex.append(hex_values)\n",
    "    return np.asarray(font_as_hex)\n"
   ]
  },
  {
   "cell_type": "code",
   "execution_count": 72,
   "id": "rental-instruction",
   "metadata": {},
   "outputs": [],
   "source": [
    "def font_to_file(filename, hex_font, width, height):\n",
    "    with open(filename, 'w') as file:\n",
    "        file.write(f'extern const unsigned char font_{width}_{height}[256][{len(hex_font[0])}] PROGMEM = ' + '{\\n')\n",
    "        for c in hex_font:\n",
    "            file.write('{' + ', '.join(c) + ' },')\n",
    "        file.write('}')"
   ]
  },
  {
   "cell_type": "code",
   "execution_count": 13,
   "id": "secondary-estonia",
   "metadata": {
    "scrolled": true
   },
   "outputs": [
    {
     "name": "stdout",
     "output_type": "stream",
     "text": [
      "32 48\n",
      "(391, 1055)\n"
     ]
    },
    {
     "data": {
      "image/png": "[encoded data removed]",
      "text/plain": [
       "<PIL.Image.Image image mode=1 size=1055x391 at 0x7FABF1B67048>"
      ]
     },
     "metadata": {},
     "output_type": "display_data"
    }
   ],
   "source": [
    "fonts = assemble_font(32, 48, 36)"
   ]
  },
  {
   "cell_type": "code",
   "execution_count": 15,
   "id": "frequent-intake",
   "metadata": {
    "scrolled": false
   },
   "outputs": [
    {
     "name": "stdout",
     "output_type": "stream",
     "text": [
      "16 24\n",
      "(199, 543)\n"
     ]
    },
    {
     "data": {
      "image/png": "[encoded data removed]",
      "text/plain": [
       "<PIL.Image.Image image mode=1 size=543x199 at 0x7FABF1ABE940>"
      ]
     },
     "metadata": {},
     "output_type": "display_data"
    }
   ],
   "source": [
    "fonts = assemble_font(16, 24, 16)"
   ]
  },
  {
   "cell_type": "code",
   "execution_count": 18,
   "id": "floating-advisory",
   "metadata": {
    "scrolled": false
   },
   "outputs": [],
   "source": [
    "hf = font_to_hex(fonts)"
   ]
  },
  {
   "cell_type": "code",
   "execution_count": 222,
   "id": "forty-growth",
   "metadata": {},
   "outputs": [],
   "source": [
    "font_to_file('test.c', 32, 48)"
   ]
  },
  {
   "cell_type": "code",
   "execution_count": 210,
   "id": "understood-observer",
   "metadata": {},
   "outputs": [
    {
     "data": {
      "text/plain": [
       "256"
      ]
     },
     "execution_count": 210,
     "metadata": {},
     "output_type": "execute_result"
    }
   ],
   "source": [
    "len(fonts)"
   ]
  },
  {
   "cell_type": "code",
   "execution_count": 241,
   "id": "random-enhancement",
   "metadata": {},
   "outputs": [
    {
     "name": "stdout",
     "output_type": "stream",
     "text": [
      "16 24\n",
      "(199, 543)\n"
     ]
    },
    {
     "data": {
      "image/png": "[encoded data removed]",
      "text/plain": [
       "<PIL.Image.Image image mode=1 size=543x199 at 0x7FD6395C2580>"
      ]
     },
     "metadata": {},
     "output_type": "display_data"
    }
   ],
   "source": [
    "fonts = assemble_font(16, 24, 20)\n",
    "hf = font_to_hex(fonts)\n",
    "font_to_file('test.c', hf, 16, 24)"
   ]
  },
  {
   "cell_type": "code",
   "execution_count": 46,
   "id": "standard-aviation",
   "metadata": {},
   "outputs": [],
   "source": [
    "icons = [\n",
    "    '/Users/paul/Downloads/pixel-40x40-6.png',\n",
    "    '/Users/paul/Downloads/pixel-40x40-7.png',\n",
    "    '/Users/paul/Downloads/pixel-40x40-8.png',\n",
    "    '/Users/paul/Downloads/pixel-40x40-9.png',\n",
    "    '/Users/paul/Downloads/pixel-40x40-10.png',\n",
    "]\n",
    "icons = [ Image.open(x) for x in icons] "
   ]
  },
  {
   "cell_type": "code",
   "execution_count": 48,
   "id": "interesting-ancient",
   "metadata": {},
   "outputs": [],
   "source": [
    "icons = [np.array(x)[:,:,(2,3)] for x in icons]"
   ]
  },
  {
   "cell_type": "code",
   "execution_count": 49,
   "id": "pressing-exposure",
   "metadata": {},
   "outputs": [
    {
     "data": {
      "text/plain": [
       "array([[0, 0, 0, ..., 0, 0, 0],\n",
       "       [0, 0, 0, ..., 0, 0, 0],\n",
       "       [0, 0, 0, ..., 0, 0, 0],\n",
       "       ...,\n",
       "       [0, 0, 0, ..., 0, 0, 0],\n",
       "       [0, 0, 0, ..., 0, 0, 0],\n",
       "       [0, 0, 0, ..., 0, 0, 0]], dtype=uint8)"
      ]
     },
     "execution_count": 49,
     "metadata": {},
     "output_type": "execute_result"
    }
   ],
   "source": [
    "icons[0][:,:,0]"
   ]
  },
  {
   "cell_type": "code",
   "execution_count": 54,
   "id": "ecological-humanitarian",
   "metadata": {},
   "outputs": [
    {
     "data": {
      "image/png": "[encoded data removed]",
      "text/plain": [
       "<PIL.Image.Image image mode=L size=40x40 at 0x7FBF11B12940>"
      ]
     },
     "execution_count": 54,
     "metadata": {},
     "output_type": "execute_result"
    }
   ],
   "source": [
    "Image.fromarray(icons[0][:,:,1])"
   ]
  },
  {
   "cell_type": "code",
   "execution_count": 69,
   "id": "aggregate-blackberry",
   "metadata": {},
   "outputs": [],
   "source": [
    "bw_icons = [\n",
    "    (~i[:,:,1] + i[:,:,0])//255\n",
    "    for i in icons\n",
    "]"
   ]
  },
  {
   "cell_type": "code",
   "execution_count": 70,
   "id": "threatened-algeria",
   "metadata": {},
   "outputs": [],
   "source": [
    "hex_icons = font_to_hex(bw_icons)"
   ]
  },
  {
   "cell_type": "code",
   "execution_count": 73,
   "id": "requested-bride",
   "metadata": {},
   "outputs": [],
   "source": [
    "font_to_file('icons.c', hex_icons, 40, 40)"
   ]
  },
  {
   "cell_type": "code",
   "execution_count": null,
   "id": "suffering-aluminum",
   "metadata": {},
   "outputs": [],
   "source": []
  }
 ],
 "metadata": {
  "kernelspec": {
   "display_name": "Python 3",
   "language": "python",
   "name": "python3"
  },
  "language_info": {
   "codemirror_mode": {
    "name": "ipython",
    "version": 3
   },
   "file_extension": ".py",
   "mimetype": "text/x-python",
   "name": "python",
   "nbconvert_exporter": "python",
   "pygments_lexer": "ipython3",
   "version": "3.6.12"
  }
 },
 "nbformat": 4,
 "nbformat_minor": 5
}
